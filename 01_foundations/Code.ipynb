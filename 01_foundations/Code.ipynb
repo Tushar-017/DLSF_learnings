{
 "cells": [
  {
   "cell_type": "markdown",
   "metadata": {},
   "source": [
    "## Imports"
   ]
  },
  {
   "cell_type": "code",
   "execution_count": 1,
   "metadata": {},
   "outputs": [],
   "source": [
    "import matplotlib.pyplot as plt\n",
    "import matplotlib\n",
    "import numpy as np\n",
    "from numpy import ndarray\n",
    "%matplotlib inline\n",
    "\n",
    "from typing import Callable\n",
    "from typing import Dict"
   ]
  },
  {
   "cell_type": "code",
   "execution_count": 2,
   "metadata": {},
   "outputs": [],
   "source": [
    "np.set_printoptions(precision=4)"
   ]
  },
  {
   "cell_type": "markdown",
   "metadata": {},
   "source": [
    "# Illustration of Python lists vs. Numpy arrays"
   ]
  },
  {
   "cell_type": "code",
   "execution_count": 10,
   "metadata": {},
   "outputs": [
    {
     "name": "stdout",
     "output_type": "stream",
     "text": [
      "Python list operations:\n",
      "a+b: [1, 2, 3, 4, 5, 6]\n",
      "a*b has no meaning for Python lists\n",
      "\n",
      "Numpy array operations:\n",
      "a+b: [5 7 9]\n",
      "a*b: [ 4 10 18]\n"
     ]
    }
   ],
   "source": [
    "print(\"Python list operations:\")\n",
    "a = [1,2,3]\n",
    "b = [4,5,6]\n",
    "print(\"a+b:\", a + b)\n",
    "try:\n",
    "    print(a * b)\n",
    "except TypeError:\n",
    "    print(\"a*b has no meaning for Python lists\")\n",
    "print()\n",
    "print(\"Numpy array operations:\")\n",
    "a = np.array([1,2,3])\n",
    "b = np.array([4,5,6])\n",
    "print(\"a+b:\", a + b)\n",
    "print(\"a*b:\", a * b)"
   ]
  },
  {
   "cell_type": "code",
   "execution_count": 6,
   "metadata": {},
   "outputs": [
    {
     "name": "stdout",
     "output_type": "stream",
     "text": [
      "[[1 2 3]\n",
      " [4 5 6]]\n",
      "[[2 4 8]\n",
      " [3 5 7]]\n"
     ]
    }
   ],
   "source": [
    "import numpy as np\n",
    "a = np.array([[1,2,3],\n",
    "              [4,5,6]]) \n",
    "b = np.array([[2,4,8], [3,5,7]])\n",
    "print(a)\n",
    "print(b)"
   ]
  },
  {
   "cell_type": "code",
   "execution_count": 12,
   "metadata": {},
   "outputs": [
    {
     "name": "stdout",
     "output_type": "stream",
     "text": [
      "a + b:\n",
      " [[11 22 33]\n",
      " [14 25 36]]\n"
     ]
    }
   ],
   "source": [
    "b = np.array([10,20,30])\n",
    "print(\"a + b:\\n\", a + b)"
   ]
  },
  {
   "cell_type": "code",
   "execution_count": 13,
   "metadata": {},
   "outputs": [
    {
     "name": "stdout",
     "output_type": "stream",
     "text": [
      "a:\n",
      "[[1 2 3]\n",
      " [4 5 6]]\n",
      "a.sum(axis=0): [5 7 9]\n",
      "a.sum(axis=1): [ 6 15]\n"
     ]
    }
   ],
   "source": [
    "print('a:')\n",
    "print(a)\n",
    "print('a.sum(axis=0):', a.sum(axis=0))\n",
    "print('a.sum(axis=1):', a.sum(axis=1))"
   ]
  },
  {
   "cell_type": "markdown",
   "metadata": {},
   "source": [
    "# Basic functions"
   ]
  },
  {
   "cell_type": "code",
   "execution_count": 14,
   "metadata": {},
   "outputs": [
    {
     "name": "stdout",
     "output_type": "stream",
     "text": [
      "Example input: [-2 -1  0  1  2]\n",
      "Example input-2: [[ 1.  -2.2  3. ]\n",
      " [ 4.2  5.   6. ]]\n",
      "Output of square(example_input): [4 1 0 1 4]\n",
      "Output of square(example_input-2): [[ 1.    4.84  9.  ]\n",
      " [17.64 25.   36.  ]]\n",
      "Output of leaky_relu(example_input): [-0.4 -0.2  0.   1.   2. ]\n",
      "Output of leaky_relu(example_input-2): [[ 1.   -0.44  3.  ]\n",
      " [ 4.2   5.    6.  ]]\n"
     ]
    }
   ],
   "source": [
    "import numpy as np\n",
    "\n",
    "def square(x: np.ndarray) -> np.ndarray:\n",
    "    '''\n",
    "    Square each element in the input ndarray.\n",
    "    '''\n",
    "    return np.power(x, 2)\n",
    "\n",
    "def leaky_relu(x: np.ndarray) -> np.ndarray:\n",
    "    '''\n",
    "    Apply the \"Leaky ReLU\" (Leaky Rectified Linear Unit) activation function to each element in the input ndarray.\n",
    "\n",
    "    The Leaky ReLU function is defined as:\n",
    "        leaky_relu(x) = x        if x > 0\n",
    "                        0.2 * x  if x <= 0\n",
    "\n",
    "    This means that for positive values, the function returns the value itself, and for negative values, it returns a small, nonzero slope (here, 0.2 times the value).\n",
    "    This helps prevent the \"dying ReLU\" problem where neurons become inactive and only output zero.\n",
    "\n",
    "    Parameters:\n",
    "        x (np.ndarray): Input array.\n",
    "\n",
    "    Returns:\n",
    "        np.ndarray: Output array where the Leaky ReLU function has been applied element-wise.\n",
    "    '''\n",
    "    return np.maximum(0.2 * x, x)\n",
    "\n",
    "# Example usage and print logs\n",
    "example_input = np.array([-2, -1, 0, 1, 2])\n",
    "example_input2 = np.array([[1,-2.2,3], [4.2,5,6]])\n",
    "print(\"Example input:\", example_input)\n",
    "print(\"Example input-2:\", example_input2)\n",
    "\n",
    "squared_output = square(example_input)\n",
    "squared_output2 = square(example_input2)\n",
    "print(\"Output of square(example_input):\", squared_output)\n",
    "print(\"Output of square(example_input-2):\", squared_output2)\n",
    "\n",
    "leaky_relu_output = leaky_relu(example_input)\n",
    "leaky_relu_output2 = leaky_relu(example_input2)\n",
    "print(\"Output of leaky_relu(example_input):\", leaky_relu_output)\n",
    "print(\"Output of leaky_relu(example_input-2):\", leaky_relu_output2)"
   ]
  },
  {
   "cell_type": "code",
   "execution_count": 15,
   "metadata": {},
   "outputs": [],
   "source": [
    "# IMG_FOLDER_PATH = '/Users/seth/development/01_deep-learning-from-scratch/images/01_foundations/'\n",
    "# PDF_IMG_FOLDER_PATH = '/Users/seth/development/01_deep-learning-from-scratch/pdf_images/01_foundations/'"
   ]
  },
  {
   "cell_type": "code",
   "execution_count": null,
   "metadata": {},
   "outputs": [
    {
     "name": "stderr",
     "output_type": "stream",
     "text": [
      "Matplotlib is building the font cache; this may take a moment.\n"
     ]
    },
    {
     "data": {
      "image/png": "[encoded data removed]",
      "text/plain": [
       "<Figure size 1200x600 with 2 Axes>"
      ]
     },
     "metadata": {},
     "output_type": "display_data"
    }
   ],
   "source": [
    "import numpy as np\n",
    "import matplotlib.pyplot as plt\n",
    "import matplotlib\n",
    "fig, ax = plt.subplots(1, 2, sharey=True, figsize=(12, 6))  # 2 Rows, 1 Col\n",
    "\n",
    "input_range = np.arange(-2, 2, 0.01)\n",
    "ax[0].plot(input_range, square(input_range))\n",
    "ax[0].plot(input_range, square(input_range))\n",
    "ax[0].set_title('Square function')\n",
    "ax[0].set_xlabel('input')\n",
    "ax[0].set_ylabel('input')\n",
    "\n",
    "ax[1].plot(input_range, leaky_relu(input_range))\n",
    "ax[1].plot(input_range, leaky_relu(input_range))\n",
    "ax[1].set_title('\"ReLU\" function')\n",
    "ax[1].set_xlabel('input')\n",
    "ax[1].set_ylabel('output');\n",
    "# plt.savefig(IMG_FOLDER_PATH + \"01_two_functions.png\")\n",
    "# plt.savefig(PDF_IMG_FOLDER_PATH + \"01_two_functions.pdf\")"
   ]
  },
  {
   "cell_type": "code",
   "execution_count": 20,
   "metadata": {},
   "outputs": [
    {
     "name": "stdout",
     "output_type": "stream",
     "text": [
      "Derivative of dummy_func at [-2.    2.    0.01] is [0.2 1.  1. ]\n"
     ]
    }
   ],
   "source": [
    "from typing import Callable\n",
    "import numpy as np\n",
    "\n",
    "def deriv(func: Callable[[np.ndarray], np.ndarray],\n",
    "          input_: np.ndarray,\n",
    "          diff: float = 0.001) -> np.ndarray:\n",
    "    '''\n",
    "    Evaluates the derivative of a function \"func\" at every element in the \"input_\" array.\n",
    "    '''\n",
    "    return (func(input_ + diff) - func(input_ - diff)) / (2 * diff)\n",
    "\n",
    "# Example usage with a dummy function and input\n",
    "def dummy_func(x: np.ndarray) -> np.ndarray:\n",
    "#     print(x*x)\n",
    "    return leaky_relu(x)\n",
    "\n",
    "dummy_input = np.array([-2, 2, 0.01])\n",
    "\n",
    "deriv_result = deriv(dummy_func, dummy_input)\n",
    "print(\"Derivative of dummy_func at\", dummy_input, \"is\", deriv_result)"
   ]
  },
  {
   "cell_type": "markdown",
   "metadata": {},
   "source": [
    "# `Chain`"
   ]
  },
  {
   "cell_type": "code",
   "execution_count": 21,
   "metadata": {},
   "outputs": [],
   "source": [
    "from typing import List\n",
    "\n",
    "# A Function takes in an ndarray as an argument and produces an ndarray\n",
    "Array_Function = Callable[[ndarray], ndarray]\n",
    "\n",
    "# A Chain is a list of functions\n",
    "Chain = List[Array_Function]"
   ]
  },
  {
   "cell_type": "code",
   "execution_count": 6,
   "metadata": {},
   "outputs": [
    {
     "name": "stdout",
     "output_type": "stream",
     "text": [
      "Result of chain_length_2 with dummy_chain and dummy_x: [4 6 8]\n"
     ]
    }
   ],
   "source": [
    "from typing import Callable\n",
    "from typing import List\n",
    "import numpy as np\n",
    "\n",
    "Array_Function = Callable[[np.ndarray], np.ndarray]\n",
    "\n",
    "# A Chain is a list of functions\n",
    "Chain = List[Array_Function]\n",
    "\n",
    "def chain_length_2(chain: Chain,\n",
    "                  x: np.ndarray) -> np.ndarray:\n",
    "    '''\n",
    "    Evaluates two functions in a row, in a \"Chain\".\n",
    "    '''\n",
    "    assert len(chain) == 2, \\\n",
    "    \"Length of input 'chain' should be 2\"\n",
    "\n",
    "    f1 = chain[0]\n",
    "    f2 = chain[1]\n",
    "\n",
    "    return f2(f1(x))\n",
    "\n",
    "# Example usage with dummy functions\n",
    "def add_one(x: np.ndarray) -> np.ndarray:\n",
    "    return x + 1\n",
    "\n",
    "def times_two(x: np.ndarray) -> np.ndarray:\n",
    "    return x * 2\n",
    "\n",
    "dummy_chain = [add_one, times_two]\n",
    "dummy_x = np.array([1, 2, 3])\n",
    "result = chain_length_2(dummy_chain, dummy_x)\n",
    "print(\"Result of chain_length_2 with dummy_chain and dummy_x:\", result)"
   ]
  },
  {
   "cell_type": "markdown",
   "metadata": {},
   "source": [
    "## Chain derivative"
   ]
  },
  {
   "cell_type": "code",
   "execution_count": 4,
   "metadata": {},
   "outputs": [
    {
     "name": "stdout",
     "output_type": "stream",
     "text": [
      "Result of chain_length_2 with dummy_chain and dummy_x: [0.73105858 0.5        0.04742587]\n"
     ]
    }
   ],
   "source": [
    "from typing import Callable\n",
    "from typing import List\n",
    "import numpy as np\n",
    "\n",
    "Array_Function = Callable[[np.ndarray], np.ndarray]\n",
    "\n",
    "# A Chain is a list of functions\n",
    "Chain = List[Array_Function]\n",
    "\n",
    "def square(x: np.ndarray) -> np.ndarray:\n",
    "    '''\n",
    "    Square each element in the input Tensor.\n",
    "    '''\n",
    "    return np.power(x, 2)\n",
    "\n",
    "def sigmoid(x: np.ndarray) -> np.ndarray:\n",
    "    '''\n",
    "    Apply the sigmoid function to each element in the input ndarray.\n",
    "    '''\n",
    "    # This line computes the sigmoid function for each element in x.\n",
    "    # The sigmoid function is defined as: sigmoid(x) = 1 / (1 + exp(-x))\n",
    "    # For example, if x = 0:\n",
    "    #   sigmoid(0) = 1 / (1 + exp(0)) = 1 / (1 + 1) = 0.5\n",
    "    # If x = 2:\n",
    "    #   sigmoid(2) = 1 / (1 + exp(-2)) ≈ 1 / (1 + 0.135) ≈ 0.88\n",
    "    # If x = -2:\n",
    "    #   sigmoid(-2) = 1 / (1 + exp(2)) ≈ 1 / (1 + 7.389) ≈ 0.12\n",
    "    #   # Here, exp(2) means \"e to the power of 2\", where e ≈ 2.718. So exp(2) ≈ 7.389.\n",
    "    #   # In general, exp(x) is the exponential function, which is a standard mathematical function.\n",
    "    # So, this function \"squashes\" any real number to a value between 0 and 1.\n",
    "    return 1 / (1 + np.exp(-x))\n",
    "\n",
    "def deriv(func: Callable[[np.ndarray], np.ndarray],\n",
    "        input_: np.ndarray,\n",
    "        diff: float = 0.001) -> np.ndarray:\n",
    "    '''\n",
    "    Evaluates the derivative of a function \"func\" at every element in the \"input_\" array.\n",
    "    '''\n",
    "    return (func(input_ + diff) - func(input_ - diff)) / (2 * diff)\n",
    "\n",
    "def chain_deriv_2(chain: Chain,\n",
    "                input_range: np.ndarray) -> np.ndarray:\n",
    "    '''\n",
    "    Uses the chain rule to compute the derivative of two nested functions:\n",
    "    (f2(f1(x))' = f2'(f1(x)) * f1'(x)\n",
    "    '''\n",
    "\n",
    "    assert len(chain) == 2, \\\n",
    "    \"This function requires 'Chain' objects of length 2\"\n",
    "\n",
    "    assert input_range.ndim == 1, \\\n",
    "    \"Function requires a 1 dimensional ndarray as input_range\"\n",
    "\n",
    "    f1 = chain[0]\n",
    "    f2 = chain[1]\n",
    "\n",
    "    # df1/dx\n",
    "    f1_of_x = f1(input_range)\n",
    "\n",
    "    # df1/du\n",
    "    df1dx = deriv(f1, input_range)\n",
    "\n",
    "    # df2/du(f1(x))\n",
    "    df2du = deriv(f2, f1(input_range))\n",
    "\n",
    "    # Multiplying these quantities together at each point\n",
    "    return df1dx * df2du\n",
    "\n",
    "dummy_x = np.array([1, 0, -3])\n",
    "result = sigmoid(dummy_x)\n",
    "print(\"Result of chain_length_2 with dummy_chain and dummy_x:\", result)"
   ]
  },
  {
   "cell_type": "code",
   "execution_count": 25,
   "metadata": {},
   "outputs": [],
   "source": [
    "def plot_chain(ax,\n",
    "               chain: Chain, \n",
    "               input_range: ndarray) -> None:\n",
    "    '''\n",
    "    Plots a chain function - a function made up of \n",
    "    multiple consecutive ndarray -> ndarray mappings - \n",
    "    Across the input_range\n",
    "    \n",
    "    ax: matplotlib Subplot for plotting\n",
    "    '''\n",
    "    \n",
    "    assert input_range.ndim == 1, \\\n",
    "    \"Function requires a 1 dimensional ndarray as input_range\"\n",
    "\n",
    "    output_range = chain_length_2(chain, input_range)\n",
    "    ax.plot(input_range, output_range)"
   ]
  },
  {
   "cell_type": "code",
   "execution_count": 26,
   "metadata": {},
   "outputs": [],
   "source": [
    "def plot_chain_deriv(ax,\n",
    "                     chain: Chain,\n",
    "                     input_range: ndarray) -> ndarray:\n",
    "    '''\n",
    "    Uses the chain rule to plot the derivative of a function consisting of two nested functions.\n",
    "    \n",
    "    ax: matplotlib Subplot for plotting\n",
    "    '''\n",
    "    output_range = chain_deriv_2(chain, input_range)\n",
    "    ax.plot(input_range, output_range)"
   ]
  },
  {
   "cell_type": "code",
   "execution_count": 29,
   "metadata": {},
   "outputs": [
    {
     "data": {
      "image/png": "[encoded data removed]",
      "text/plain": [
       "<Figure size 1152x576 with 2 Axes>"
      ]
     },
     "metadata": {
      "needs_background": "light"
     },
     "output_type": "display_data"
    }
   ],
   "source": [
    "fig, ax = plt.subplots(1, 2, sharey=True, figsize=(16, 8))  # 2 Rows, 1 Col\n",
    "\n",
    "chain_1 = [square, sigmoid]\n",
    "chain_2 = [sigmoid, square]\n",
    "\n",
    "PLOT_RANGE = np.arange(-3, 3, 0.01)\n",
    "plot_chain(ax[0], chain_1, PLOT_RANGE)\n",
    "plot_chain_deriv(ax[0], chain_1, PLOT_RANGE)\n",
    "\n",
    "ax[0].legend([\"$f(x)$\", \"$\\\\frac{df}{dx}$\"])\n",
    "ax[0].set_title(\"Function and derivative for\\n$f(x) = sigmoid(square(x))$\")\n",
    "\n",
    "plot_chain(ax[1], chain_2, PLOT_RANGE)\n",
    "plot_chain_deriv(ax[1], chain_2, PLOT_RANGE)\n",
    "ax[1].legend([\"$f(x)$\", \"$\\\\frac{df}{dx}$\"])\n",
    "ax[1].set_title(\"Function and derivative for\\n$f(x) = square(sigmoid(x))$\");\n",
    "\n",
    "# plt.savefig(IMG_FOLDER_PATH + \"08_plot_chain_rule_1.png\");\n",
    "# plt.savefig(PDF_IMG_FOLDER_PATH + \"08_plot_chain_rule_1.pdf\");"
   ]
  },
  {
   "cell_type": "markdown",
   "metadata": {},
   "source": [
    "# `Chain of length 3`"
   ]
  },
  {
   "cell_type": "code",
   "execution_count": 30,
   "metadata": {},
   "outputs": [],
   "source": [
    "def chain_length_3(chain: Chain,\n",
    "                   x: ndarray) -> ndarray:\n",
    "    '''\n",
    "    Evaluates three functions in a row, in a \"Chain\".\n",
    "    '''\n",
    "    assert len(chain) == 3, \\\n",
    "    \"Length of input 'chain' should be 3\"\n",
    "\n",
    "    f1 = chain[0]\n",
    "    f2 = chain[1]\n",
    "    f3 = chain[2]\n",
    "\n",
    "    return f3(f2(f1(x)))"
   ]
  },
  {
   "cell_type": "code",
   "execution_count": 31,
   "metadata": {},
   "outputs": [],
   "source": [
    "def chain_deriv_3(chain: Chain,\n",
    "                  input_range: ndarray) -> ndarray:\n",
    "    '''\n",
    "    Uses the chain rule to compute the derivative of three nested functions:\n",
    "    (f3(f2(f1)))' = f3'(f2(f1(x))) * f2'(f1(x)) * f1'(x)\n",
    "    '''\n",
    "\n",
    "    assert len(chain) == 3, \\\n",
    "    \"This function requires 'Chain' objects to have length 3\"\n",
    "\n",
    "    f1 = chain[0]\n",
    "    f2 = chain[1]\n",
    "    f3 = chain[2]\n",
    "\n",
    "    # f1(x)\n",
    "    f1_of_x = f1(input_range)\n",
    "\n",
    "    # f2(f1(x))\n",
    "    f2_of_x = f2(f1_of_x)\n",
    "\n",
    "    # df3du\n",
    "    df3du = deriv(f3, f2_of_x)\n",
    "\n",
    "    # df2du\n",
    "    df2du = deriv(f2, f1_of_x)\n",
    "\n",
    "    # df1dx\n",
    "    df1dx = deriv(f1, input_range)\n",
    "\n",
    "    # Multiplying these quantities together at each point\n",
    "    return df1dx * df2du * df3du"
   ]
  },
  {
   "cell_type": "code",
   "execution_count": 32,
   "metadata": {},
   "outputs": [],
   "source": [
    "def square(x: ndarray) -> ndarray:\n",
    "    '''\n",
    "    Square each element in the input ndarray.\n",
    "    '''\n",
    "    return np.power(x, 2)\n",
    "\n",
    "def leaky_relu(x: ndarray) -> ndarray:\n",
    "    '''\n",
    "    Apply \"Leaky ReLU\" function to each element in ndarray\n",
    "    '''\n",
    "    return np.maximum(0.2 * x, x)\n",
    "\n",
    "def sigmoid(x: ndarray) -> ndarray:\n",
    "    '''\n",
    "    Apply \"sigmoid\" function to each element in ndarray\n",
    "    '''\n",
    "    return 1 / (1 + np.exp(-x))"
   ]
  },
  {
   "cell_type": "code",
   "execution_count": 33,
   "metadata": {},
   "outputs": [],
   "source": [
    "def plot_chain(ax,\n",
    "               chain: Chain, \n",
    "               input_range: ndarray,\n",
    "               length: int=2) -> None:\n",
    "    '''\n",
    "    Plots a chain function - a function made up of \n",
    "    multiple consecutive ndarray -> ndarray mappings - across one range\n",
    "    \n",
    "    ax: matplotlib Subplot for plotting\n",
    "    '''\n",
    "    \n",
    "    assert input_range.ndim == 1, \\\n",
    "    \"Function requires a 1 dimensional ndarray as input_range\"\n",
    "    if length == 2:\n",
    "        output_range = chain_length_2(chain, input_range)\n",
    "    elif length == 3:\n",
    "        output_range = chain_length_3(chain, input_range)\n",
    "    ax.plot(input_range, output_range)"
   ]
  },
  {
   "cell_type": "code",
   "execution_count": 34,
   "metadata": {},
   "outputs": [],
   "source": [
    "def plot_chain_deriv(ax,\n",
    "                     chain: Chain,\n",
    "                     input_range: ndarray,\n",
    "                     length: int=2) -> ndarray:\n",
    "    '''\n",
    "    Uses the chain rule to plot the derivative of two nested functions.\n",
    "    \n",
    "    ax: matplotlib Subplot for plotting\n",
    "    '''\n",
    "\n",
    "    if length == 2:\n",
    "        output_range = chain_deriv_2(chain, input_range)\n",
    "    elif length == 3:\n",
    "        output_range = chain_deriv_3(chain, input_range)\n",
    "    ax.plot(input_range, output_range)"
   ]
  },
  {
   "cell_type": "code",
   "execution_count": 36,
   "metadata": {},
   "outputs": [
    {
     "data": {
      "image/png": "[encoded data removed]",
      "text/plain": [
       "<Figure size 1152x576 with 2 Axes>"
      ]
     },
     "metadata": {
      "needs_background": "light"
     },
     "output_type": "display_data"
    }
   ],
   "source": [
    "fig, ax = plt.subplots(1, 2, sharey=True, figsize=(16, 8))  # 2 Rows, 1 Col\n",
    "\n",
    "chain_1 = [leaky_relu, square, sigmoid]\n",
    "chain_2 = [leaky_relu, sigmoid, square]\n",
    "\n",
    "PLOT_RANGE = np.arange(-3, 3, 0.01)\n",
    "plot_chain(ax[0], chain_1, PLOT_RANGE, length=3)\n",
    "plot_chain_deriv(ax[0], chain_1, PLOT_RANGE, length=3)\n",
    "\n",
    "ax[0].legend([\"$f(x)$\", \"$\\\\frac{df}{dx}$\"])\n",
    "ax[0].set_title(\"Function and derivative for\\n$f(x) = sigmoid(square(leakyRrelu(x)))$\")\n",
    "\n",
    "plot_chain(ax[1], chain_2, PLOT_RANGE, length=3)\n",
    "plot_chain_deriv(ax[1], chain_2, PLOT_RANGE, length=3)\n",
    "ax[1].legend([\"$f(x)$\", \"$\\\\frac{df}{dx}$\"])\n",
    "ax[1].set_title(\"Function and derivative for\\n$f(x) = square(sigmoid(leakyRelu(x)))$\");\n",
    "\n",
    "# plt.savefig(IMG_FOLDER_PATH + \"09_plot_chain_rule_2.png\");\n",
    "# plt.savefig(PDF_IMG_FOLDER_PATH + \"09_plot_chain_rule_2.pdf\");"
   ]
  },
  {
   "cell_type": "markdown",
   "metadata": {},
   "source": [
    "# Function with multiple inputs example"
   ]
  },
  {
   "cell_type": "code",
   "execution_count": 3,
   "metadata": {},
   "outputs": [
    {
     "name": "stdout",
     "output_type": "stream",
     "text": [
      "Result of multiple_inputs_add with dummy values: [ 16. 100. 324.]\n"
     ]
    }
   ],
   "source": [
    "from typing import Callable\n",
    "import numpy as np\n",
    "\n",
    "Array_Function = Callable[[np.ndarray], np.ndarray]\n",
    "\n",
    "def multiple_inputs_add(x: np.array,\n",
    "                        y: np.array,\n",
    "                        sigma: Array_Function) -> float:\n",
    "    '''\n",
    "    Function with multiple inputs and addition, forward pass\n",
    "    '''\n",
    "    assert x.shape == y.shape\n",
    "\n",
    "    a = x + y\n",
    "    return sigma(a)\n",
    "\n",
    "# Test the function with dummy values\n",
    "# Assume sigmoid is already defined elsewhere as in previous code context\n",
    "x_dummy = np.array([1.0, 2.0, 3.0])\n",
    "y_dummy = np.array([4.0, 5.0, 6.0])\n",
    "\n",
    "# Example sigma function: sigmoid\n",
    "def dummy_sigmoid(z):\n",
    "    return 1 / (1 + np.exp(-z))\n",
    "\n",
    "def dummy_square(z):\n",
    "    return np.power(z, 2)\n",
    "\n",
    "result = multiple_inputs_add(x_dummy, y_dummy, dummy_square)\n",
    "print(\"Result of multiple_inputs_add with dummy values:\", result)"
   ]
  },
  {
   "cell_type": "code",
   "execution_count": 7,
   "metadata": {},
   "outputs": [
    {
     "name": "stdout",
     "output_type": "stream",
     "text": [
      "Result of multiple_inputs_add with dummy values: (array([ 8., 20., 36.]), array([ 8., 20., 36.]))\n"
     ]
    }
   ],
   "source": [
    "from typing import Callable\n",
    "import numpy as np\n",
    "\n",
    "Array_Function = Callable[[np.ndarray], np.ndarray]\n",
    "\n",
    "def deriv(func: Callable[[np.ndarray], np.ndarray],\n",
    "          input_: np.ndarray,\n",
    "          diff: float = 0.001) -> np.ndarray:\n",
    "    '''\n",
    "    Evaluates the derivative of a function \"func\" at every element in the \"input_\" array.\n",
    "    '''\n",
    "    return (func(input_ + diff) - func(input_ - diff)) / (2 * diff)\n",
    "\n",
    "def multiple_inputs_add_backward(x: np.array,\n",
    "                                 y: np.array,\n",
    "                                 sigma: Array_Function) -> float:\n",
    "    '''\n",
    "    Computes the derivative of this simple function with respect to\n",
    "    both inputs\n",
    "    '''\n",
    "    # Compute \"forward pass\"\n",
    "    a = x + y\n",
    "\n",
    "    # Compute derivatives\n",
    "    dsda = deriv(sigma, a)\n",
    "\n",
    "    dadx, dady = 1, 1\n",
    "\n",
    "    return dsda * dadx, dsda * dady\n",
    "\n",
    "x_dummy = np.array([1.0, 2.0, 3.0])\n",
    "y_dummy = np.array([4.0, 5.0, 6.0])\n",
    "\n",
    "def dummy_square(z):\n",
    "    return np.power(z, 2)\n",
    "\n",
    "result = multiple_inputs_add_backward(x_dummy, y_dummy, dummy_square)\n",
    "print(\"Result of multiple_inputs_add with dummy values:\", result)"
   ]
  },
  {
   "cell_type": "markdown",
   "metadata": {},
   "source": [
    "# Function with matrix multiplication"
   ]
  },
  {
   "cell_type": "code",
   "execution_count": 19,
   "metadata": {},
   "outputs": [
    {
     "name": "stdout",
     "output_type": "stream",
     "text": [
      "X.shape[1]: [[1 2 3]]\n",
      "W.shape[0]: [[4]\n",
      " [5]\n",
      " [6]]\n",
      "Result of matmul_forward with dummy values:\n",
      " [[32]]\n"
     ]
    }
   ],
   "source": [
    "from typing import Callable\n",
    "import numpy as np\n",
    "\n",
    "# Array_Function = Callable[[np.ndarray], np.ndarray]\n",
    "\n",
    "def matmul_forward(X: np.ndarray,\n",
    "                   W: np.ndarray) -> np.ndarray:\n",
    "    '''\n",
    "    Computes the forward pass of a matrix multiplication\n",
    "    '''\n",
    "    \n",
    "    assert X.shape[1] == W.shape[0], \\\n",
    "    '''\n",
    "    For matrix multiplication, the number of columns in the first array should match the\n",
    "    number of rows in the second, instead the number of columns in the first array is {0}\n",
    "    and the number of rows in the second array is {1}\n",
    "    '''.format(X.shape[1], W.shape[0])\n",
    "\n",
    "    print(\"X.shape[1]:\", X)\n",
    "    print(\"W.shape[0]:\", W)\n",
    "\n",
    "    # matrix multiplication\n",
    "    N = np.dot(X, W)\n",
    "\n",
    "    return N\n",
    "\n",
    "\n",
    "X_dummy = np.array([[1, 2, 3]])\n",
    "W_dummy = np.array([[4], [5], [6]])\n",
    "result = matmul_forward(X_dummy, W_dummy)\n",
    "print(\"Result of matmul_forward with dummy values:\\n\", result)"
   ]
  },
  {
   "cell_type": "code",
   "execution_count": 40,
   "metadata": {},
   "outputs": [],
   "source": [
    "def matmul_backward_first(X: ndarray,\n",
    "                          W: ndarray) -> ndarray:\n",
    "    '''\n",
    "    Computes the backward pass of a matrix multiplication with respect to the first argument.\n",
    "    '''\n",
    "\n",
    "    # backward pass\n",
    "    # This line computes the transpose of the matrix W.\n",
    "    # Transpose means flipping a matrix over its diagonal, so rows become columns and columns become rows.\n",
    "    # For example, if W is shape (3, 1), its transpose will be shape (1, 3).\n",
    "    dNdX = np.transpose(W, (1, 0))\n",
    "\n",
    "    return dNdX"
   ]
  },
  {
   "cell_type": "code",
   "execution_count": 41,
   "metadata": {},
   "outputs": [
    {
     "name": "stdout",
     "output_type": "stream",
     "text": [
      "[[ 0.4723  0.6151 -1.7262]]\n"
     ]
    },
    {
     "data": {
      "text/plain": [
       "array([[ 0.9282, -0.6075, -1.2214]])"
      ]
     },
     "execution_count": 41,
     "metadata": {},
     "output_type": "execute_result"
    }
   ],
   "source": [
    "np.random.seed(190203)\n",
    "\n",
    "X = np.random.randn(1,3)\n",
    "W = np.random.randn(3,1)\n",
    "\n",
    "print(X)\n",
    "matmul_backward_first(X, W)"
   ]
  },
  {
   "cell_type": "code",
   "execution_count": 42,
   "metadata": {},
   "outputs": [],
   "source": [
    "def matrix_forward_extra(X: ndarray,\n",
    "                         W: ndarray,\n",
    "                         sigma: Array_Function) -> ndarray:\n",
    "    '''\n",
    "    Computes the forward pass of a function involving matrix multiplication, one extra function\n",
    "    '''\n",
    "    assert X.shape[1] == W.shape[0]\n",
    "\n",
    "    # matrix multiplication\n",
    "    N = np.dot(X, W)\n",
    "\n",
    "    # feeding the output of the matrix multiplication through sigma\n",
    "    S = sigma(N)\n",
    "\n",
    "    return S"
   ]
  },
  {
   "cell_type": "markdown",
   "metadata": {},
   "source": [
    "# Derivative of a function with matrix multiplication"
   ]
  },
  {
   "cell_type": "markdown",
   "metadata": {},
   "source": [
    "If: \n",
    "\n",
    "* $X$ is $m x n$\n",
    "* $W$ is $n x p$\n",
    "\n",
    "Then $X * W$ will be $m x p$:\n",
    "\n",
    "If the derivative of a loss with respect to each output $N$ is $m x p$, then\n",
    "\n",
    "* $\\frac{\\partial N}{\\partial X} = N * W^T$ (`np.dot((m,p), (p,n)) = m x n`\n",
    "* $\\frac{\\partial N}{\\partial W} = X^T * N$ (`np.dot((n,m), (m,p)) = n x p`\n",
    "\n",
    "In particular, the matrix multiplication on the backward pass must be done in this order."
   ]
  },
  {
   "cell_type": "code",
   "execution_count": 55,
   "metadata": {},
   "outputs": [
    {
     "name": "stdout",
     "output_type": "stream",
     "text": [
      "X [[ 0.47231121  0.61514271 -1.72622715]]\n",
      "W [[ 0.92819676]\n",
      " [-0.60754888]\n",
      " [-1.22136052]]\n",
      "dSdN---- [[0.09175527]]\n",
      "dNdX---- [[ 0.92819676 -0.60754888 -1.22136052]]\n",
      "[[ 0.08516695 -0.05574581 -0.11206627]]\n"
     ]
    }
   ],
   "source": [
    "from typing import Callable\n",
    "import numpy as np\n",
    "\n",
    "Array_Function = Callable[[np.ndarray], np.ndarray]\n",
    "np.random.seed(190203)\n",
    "\n",
    "def matrix_function_backward_1(X: np.ndarray,\n",
    "                               W: np.ndarray,\n",
    "                               sigma: Array_Function) -> np.ndarray:\n",
    "    '''\n",
    "    Computes the derivative of our matrix function with respect to\n",
    "    the first element.\n",
    "    '''\n",
    "    assert X.shape[1] == W.shape[0]\n",
    "\n",
    "    # matrix multiplication\n",
    "    N = np.dot(X, W)\n",
    "\n",
    "    # feeding the output of the matrix multiplication through sigma\n",
    "    S = sigma(N)\n",
    "\n",
    "    # backward calculation\n",
    "    dSdN = deriv(sigma, N)\n",
    "    print(\"dSdN----\",dSdN)\n",
    "\n",
    "    # dNdX\n",
    "    dNdX = np.transpose(W, (1, 0))\n",
    "\n",
    "    print(\"dNdX----\",dNdX)\n",
    "\n",
    "    # multiply them together; since dNdX is 1x1 here, order doesn't matter\n",
    "    return np.dot(dSdN, dNdX)\n",
    "\n",
    "def square(z):\n",
    "    return np.power(z, 2)\n",
    "\n",
    "def sigmoid(z):\n",
    "    return 1 / (1 + np.exp(-z))\n",
    "\n",
    "X = np.random.randn(1,3)\n",
    "W = np.random.randn(3,1)\n",
    "# X = np.array([[0.472, 0.615, -1.716]])\n",
    "# W = np.array([[4], [5], [6]])\n",
    "print(\"X\", X)\n",
    "print(\"W\", W)\n",
    "print(matrix_function_backward_1(X, W, sigmoid))"
   ]
  },
  {
   "cell_type": "code",
   "execution_count": 56,
   "metadata": {},
   "outputs": [
    {
     "name": "stdout",
     "output_type": "stream",
     "text": [
      "dSdN---- [[0.09175527]]\n",
      "dNdX---- [[ 0.92819676 -0.60754888 -1.22136052]]\n",
      "[[ 0.08516695 -0.05574581 -0.11206627]]\n"
     ]
    }
   ],
   "source": [
    "print(matrix_function_backward_1(X, W, sigmoid))"
   ]
  },
  {
   "cell_type": "code",
   "execution_count": 45,
   "metadata": {},
   "outputs": [],
   "source": [
    "\n",
    "def forward_test(ind1, ind2, inc):\n",
    "    \n",
    "    X1 = X.copy()\n",
    "    X1[ind1, ind2] = X[ind1, ind2] + inc\n",
    "\n",
    "    return matrix_forward_extra(X1, W, sigmoid)"
   ]
  },
  {
   "cell_type": "code",
   "execution_count": 78,
   "metadata": {},
   "outputs": [
    {
     "name": "stdout",
     "output_type": "stream",
     "text": [
      "difference [[-0.00112612]]\n"
     ]
    },
    {
     "data": {
      "text/plain": [
       "array([[-0.0011]])"
      ]
     },
     "execution_count": 78,
     "metadata": {},
     "output_type": "execute_result"
    }
   ],
   "source": [
    "import numpy as np\n",
    "from typing import Callable\n",
    "\n",
    "Array_Function = Callable[[np.ndarray], np.ndarray]\n",
    "\n",
    "def matrix_forward_extra(X: np.ndarray,\n",
    "                         W: np.ndarray,\n",
    "                         sigma: Array_Function) -> np.ndarray:\n",
    "    '''\n",
    "    Computes the forward pass of a function involving matrix multiplication, one extra function\n",
    "    '''\n",
    "    assert X.shape[1] == W.shape[0]\n",
    "\n",
    "    # matrix multiplication\n",
    "    N = np.dot(X, W)\n",
    "\n",
    "    # feeding the output of the matrix multiplication through sigma\n",
    "    S = sigma(N)\n",
    "\n",
    "    return S\n",
    "def forward_test(ind1, ind2, inc):\n",
    "    \n",
    "    X1 = X.copy()\n",
    "    X1[ind1, ind2] = X[ind1, ind2] + inc\n",
    "\n",
    "    return matrix_forward_extra(X1, W, sigmoid)\n",
    "\n",
    "original_metrics_deriv = forward_test(0, 2, 0)\n",
    "increased_metrics_deriv = forward_test(0, 2, 0.01)\n",
    "\n",
    "print(\"difference\", np.round((increased_metrics_deriv - original_metrics_deriv),8) )\n",
    "# print(\"increased_metrics_deriv\", increased_metrics_deriv)\n",
    "(np.round(forward_test(0, 2, 0.01) - forward_test(0, 2, 0), 4)) / 0.01"
   ]
  },
  {
   "cell_type": "code",
   "execution_count": 49,
   "metadata": {},
   "outputs": [
    {
     "data": {
      "text/plain": [
       "-0.11"
      ]
     },
     "execution_count": 49,
     "metadata": {},
     "output_type": "execute_result"
    }
   ],
   "source": [
    "np.round(matrix_function_backward_1(X, W, sigmoid)[0, 2], 2)"
   ]
  },
  {
   "cell_type": "markdown",
   "metadata": {},
   "source": [
    "Same! Gradients check."
   ]
  },
  {
   "cell_type": "markdown",
   "metadata": {},
   "source": [
    "# Matrix function with sum"
   ]
  },
  {
   "cell_type": "code",
   "execution_count": 52,
   "metadata": {},
   "outputs": [],
   "source": [
    "def matrix_function_forward_sum(X: ndarray,\n",
    "                                W: ndarray,\n",
    "                                sigma: Array_Function) -> float:\n",
    "    '''\n",
    "    Computing the result of the forward pass of this function with\n",
    "    input ndarrays X and W and function sigma.\n",
    "    '''\n",
    "    assert X.shape[1] == W.shape[0]\n",
    "\n",
    "    # matrix multiplication\n",
    "    N = np.dot(X, W)\n",
    "\n",
    "    # feeding the output of the matrix multiplication through sigma\n",
    "    S = sigma(N)\n",
    "\n",
    "    # sum all the elements\n",
    "    L = np.sum(S)\n",
    "\n",
    "    return L"
   ]
  },
  {
   "cell_type": "code",
   "execution_count": 53,
   "metadata": {},
   "outputs": [],
   "source": [
    "def matrix_function_backward_1(X: ndarray,\n",
    "                               W: ndarray,\n",
    "                               sigma: Array_Function) -> ndarray:\n",
    "    '''\n",
    "    Computes the derivative of this function with respect to\n",
    "    the first element.\n",
    "    '''\n",
    "    assert X.shape[1] == W.shape[0]\n",
    "\n",
    "    # matrix multiplication\n",
    "    N = np.dot(X, W)\n",
    "\n",
    "    # feeding the output of the matrix multiplication through sigma\n",
    "    S = sigma(N)\n",
    "\n",
    "    # backward calculation\n",
    "    dSdN = deriv(sigma, N)\n",
    "\n",
    "    # dNdX\n",
    "    dNdX = np.transpose(W.transpose(0, 1))\n",
    "\n",
    "    # multiply them together; since dNdX is 1x1 here, order doesn't matter\n",
    "    return np.dot(dSdN, dNdX)"
   ]
  },
  {
   "cell_type": "markdown",
   "metadata": {},
   "source": [
    "# Matrix function with two 2D matrices"
   ]
  },
  {
   "cell_type": "code",
   "execution_count": 54,
   "metadata": {},
   "outputs": [],
   "source": [
    "def matrix_function_forward_sum(X: ndarray,\n",
    "                                W: ndarray,\n",
    "                                sigma: Array_Function) -> float:\n",
    "    '''\n",
    "    Computing the result of the forward pass of this function with\n",
    "    input ndarrays X and W and function sigma.\n",
    "    '''\n",
    "    assert X.shape[1] == W.shape[0]\n",
    "\n",
    "    # matrix multiplication\n",
    "    N = np.dot(X, W)\n",
    "\n",
    "    # feeding the output of the matrix multiplication through sigma\n",
    "    S = sigma(N)\n",
    "\n",
    "    # sum all the elements\n",
    "    L = np.sum(S)\n",
    "\n",
    "    return L"
   ]
  },
  {
   "cell_type": "code",
   "execution_count": 55,
   "metadata": {},
   "outputs": [],
   "source": [
    "def matrix_function_backward_sum_1(X: ndarray,\n",
    "                                   W: ndarray,\n",
    "                                   sigma: Array_Function) -> ndarray:\n",
    "    '''\n",
    "    Compute derivative of matrix function with a sum with respect to the\n",
    "    first matrix input\n",
    "    '''\n",
    "    assert X.shape[1] == W.shape[0]\n",
    "\n",
    "    # matrix multiplication\n",
    "    N = np.dot(X, W)\n",
    "\n",
    "    # feeding the output of the matrix multiplication through sigma\n",
    "    S = sigma(N)\n",
    "\n",
    "    # sum all the elements\n",
    "    L = np.sum(S)\n",
    "\n",
    "    # note: I'll refer to the derivatives by their quantities here,\n",
    "    # unlike the math where we referred to their function names\n",
    "\n",
    "    # dLdS - just 1s\n",
    "    dLdS = np.ones_like(S)\n",
    "\n",
    "    # dSdN\n",
    "    dSdN = deriv(sigma, N)\n",
    "    \n",
    "    # dLdN\n",
    "    dLdN = dLdS * dSdN\n",
    "\n",
    "    # dNdX\n",
    "    dNdX = np.transpose(W, (1, 0))\n",
    "\n",
    "    # dLdX\n",
    "    dLdX = np.dot(dSdN, dNdX)\n",
    "\n",
    "    return dLdX"
   ]
  },
  {
   "cell_type": "markdown",
   "metadata": {},
   "source": [
    "#### Testing"
   ]
  },
  {
   "cell_type": "code",
   "execution_count": 42,
   "metadata": {},
   "outputs": [
    {
     "name": "stdout",
     "output_type": "stream",
     "text": [
      "X:\n",
      "[[-1.57752816 -0.6664228   0.63910406]\n",
      " [-0.56152218  0.73729959 -1.42307821]\n",
      " [-1.44348429 -0.39128029  0.1539322 ]]\n",
      "L:\n",
      "2.3755\n",
      "\n",
      "dLdX:\n",
      "[[ 0.2488887  -0.37478057  0.01121962]\n",
      " [ 0.12604152 -0.27807404 -0.13945837]\n",
      " [ 0.22992798 -0.36623443 -0.02252592]]\n"
     ]
    }
   ],
   "source": [
    "from typing import Callable\n",
    "import numpy as np\n",
    "\n",
    "Array_Function = Callable[[np.ndarray], np.ndarray]\n",
    "\n",
    "def matrix_function_forward_sum(X: np.ndarray,\n",
    "                                W: np.ndarray,\n",
    "                                sigma: Array_Function) -> float:\n",
    "    '''\n",
    "    Computing the result of the forward pass of this function with\n",
    "    input ndarrays X and W and function sigma.\n",
    "    '''\n",
    "    assert X.shape[1] == W.shape[0]\n",
    "\n",
    "    # matrix multiplication\n",
    "    N = np.dot(X, W)\n",
    "\n",
    "    # feeding the output of the matrix multiplication through sigma\n",
    "    S = sigma(N)\n",
    "\n",
    "    # sum all the elements\n",
    "    L = np.sum(S)\n",
    "\n",
    "    return L\n",
    "\n",
    "def matrix_function_backward_sum_1(X: np.ndarray,\n",
    "                                   W: np.ndarray,\n",
    "                                   sigma: Array_Function) -> np.ndarray:\n",
    "    '''\n",
    "    Compute derivative of matrix function with a sum with respect to the\n",
    "    first matrix input\n",
    "    '''\n",
    "    assert X.shape[1] == W.shape[0]\n",
    "\n",
    "    # matrix multiplication\n",
    "    N = np.dot(X, W)\n",
    "\n",
    "    # feeding the output of the matrix multiplication through sigma\n",
    "    S = sigma(N)\n",
    "\n",
    "    # sum all the elements\n",
    "    L = np.sum(S)\n",
    "\n",
    "    # note: I'll refer to the derivatives by their quantities here,\n",
    "    # unlike the math where we referred to their function names\n",
    "\n",
    "    # dLdS - just 1s\n",
    "    dLdS = np.ones_like(S)\n",
    "\n",
    "    # dSdN\n",
    "    dSdN = deriv(sigma, N)\n",
    "    \n",
    "    # dLdN\n",
    "    dLdN = dLdS * dSdN\n",
    "\n",
    "    # dNdX\n",
    "    dNdX = np.transpose(W, (1, 0))\n",
    "\n",
    "    # dLdX\n",
    "    dLdX = np.dot(dSdN, dNdX)\n",
    "\n",
    "    return dLdX\n",
    "\n",
    "np.random.seed(190204)\n",
    "X = np.random.randn(3, 3)\n",
    "W = np.random.randn(3, 2)\n",
    "\n",
    "print(\"X:\")\n",
    "print(X)\n",
    "\n",
    "print(\"L:\")\n",
    "print(round(matrix_function_forward_sum(X, W, sigmoid), 4))\n",
    "print()\n",
    "print(\"dLdX:\")\n",
    "print(matrix_function_backward_sum_1(X, W , sigmoid))"
   ]
  },
  {
   "cell_type": "code",
   "execution_count": 92,
   "metadata": {},
   "outputs": [
    {
     "name": "stdout",
     "output_type": "stream",
     "text": [
      "[[-1.57752816 -0.6664228   0.63910406]\n",
      " [-0.56152218  0.73729959 -1.42307821]\n",
      " [-1.44348429 -0.39128029  0.1539322 ]]\n",
      "[[-1.57652816 -0.6664228   0.63910406]\n",
      " [-0.56152218  0.73729959 -1.42307821]\n",
      " [-1.44348429 -0.39128029  0.1539322 ]]\n",
      "0.2489\n"
     ]
    }
   ],
   "source": [
    "import numpy as np\n",
    "np.random.seed(190204)\n",
    "X = np.random.randn(3, 3)\n",
    "W = np.random.randn(3, 2)\n",
    "X1 = X.copy()\n",
    "X1[0, 0] += 0.001\n",
    "\n",
    "print(X)\n",
    "print(X1)\n",
    "\n",
    "print(round(\n",
    "        (matrix_function_forward_sum(X1, W, sigmoid) - \\\n",
    "         matrix_function_forward_sum(X, W, sigmoid)) / 0.001, 4))"
   ]
  },
  {
   "cell_type": "markdown",
   "metadata": {},
   "source": [
    "Same again!"
   ]
  },
  {
   "cell_type": "markdown",
   "metadata": {},
   "source": [
    "### Plotting"
   ]
  },
  {
   "cell_type": "code",
   "execution_count": 58,
   "metadata": {},
   "outputs": [],
   "source": [
    "def matrix_function_forward_sum(X: ndarray,\n",
    "                                W: ndarray,\n",
    "                                sigma: Array_Function,\n",
    "                                modify_x11: bool = False,\n",
    "                                x11: float = 0.5) -> float:\n",
    "    '''\n",
    "    Computing the result of the forward pass of this function with\n",
    "    input Tensors X and W and function sigma.\n",
    "    '''\n",
    "    assert X.shape[1] == W.shape[0]\n",
    "    \n",
    "    if modify_x11:\n",
    "        X1 = X.copy()\n",
    "        X1[0][0] = x11\n",
    "\n",
    "    # matrix multiplication\n",
    "    N = np.dot(X1, W)\n",
    "\n",
    "    # feeding the output of the matrix multiplication through sigma\n",
    "    S = sigma(N)\n",
    "\n",
    "    # sum all the elements\n",
    "    L = np.sum(S)\n",
    "\n",
    "    return L"
   ]
  },
  {
   "cell_type": "code",
   "execution_count": 59,
   "metadata": {},
   "outputs": [
    {
     "name": "stdout",
     "output_type": "stream",
     "text": [
      "X:\n",
      "[[-1.5775 -0.6664  0.6391]\n",
      " [-0.5615  0.7373 -1.4231]\n",
      " [-1.4435 -0.3913  0.1539]]\n"
     ]
    }
   ],
   "source": [
    "print(\"X:\")\n",
    "print(X)"
   ]
  },
  {
   "cell_type": "code",
   "execution_count": 60,
   "metadata": {},
   "outputs": [],
   "source": [
    "x11s = np.arange(X[0][0] - 1, X[0][0] + 1, 0.01)\n",
    "Ls = [matrix_function_forward_sum(X, W, sigmoid,\n",
    "                                  modify_x11 = True,\n",
    "                                  x11=x11) for x11 in x11s]"
   ]
  },
  {
   "cell_type": "code",
   "execution_count": 62,
   "metadata": {
    "scrolled": true
   },
   "outputs": [
    {
     "data": {
      "image/png": "[encoded data removed]",
      "text/plain": [
       "<Figure size 432x288 with 1 Axes>"
      ]
     },
     "metadata": {
      "needs_background": "light"
     },
     "output_type": "display_data"
    }
   ],
   "source": [
    "plt.plot(x11s, Ls);\n",
    "# plt.title(\"Value of $L$ as $x_{11}$ changes holding\\nother values of $X$ and $W$ constant\")\n",
    "plt.xlabel(\"$x_{11}$\")\n",
    "plt.ylabel(\"$L$\");\n",
    "# plt.savefig(IMG_FOLDER_PATH + \"18_x11_vs_L.png\");\n",
    "# plt.savefig(PDF_IMG_FOLDER_PATH + \"18_x11_vs_L.pdf\");"
   ]
  }
 ],
 "metadata": {
  "kernelspec": {
   "display_name": "venv",
   "language": "python",
   "name": "python3"
  },
  "language_info": {
   "codemirror_mode": {
    "name": "ipython",
    "version": 3
   },
   "file_extension": ".py",
   "mimetype": "text/x-python",
   "name": "python",
   "nbconvert_exporter": "python",
   "pygments_lexer": "ipython3",
   "version": "3.12.3"
  }
 },
 "nbformat": 4,
 "nbformat_minor": 2
}
